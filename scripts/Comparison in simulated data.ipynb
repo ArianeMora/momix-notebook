{
 "cells": [
  {
   "cell_type": "markdown",
   "metadata": {},
   "source": [
    "# Comparison performances in simulated data"
   ]
  },
  {
   "cell_type": "markdown",
   "metadata": {},
   "source": [
    "Here the performances of the 9 multi-omics factorization methods are compared based on their performances on simulated data.\n",
    "\n",
    "## Construction of the simulated data\n",
    "\n",
    "The function to produce the simulated data is here defined. The function generates multi-omics simulated data (expression, methylation and protein quantification) composed of 100 samples, using the CRAN InserSIM package. Two different scenarios are considered, equally spaced clusters and heterogeneous ones. Moreover,different numbers of clusters are imposed on the data: 5,10,15. "
   ]
  },
  {
   "cell_type": "code",
   "execution_count": 1,
   "metadata": {},
   "outputs": [
    {
     "name": "stderr",
     "output_type": "stream",
     "text": [
      "Loading required package: MASS\n",
      "Loading required package: NMF\n",
      "Loading required package: pkgmaker\n",
      "Loading required package: registry\n",
      "\n",
      "Attaching package: ‘pkgmaker’\n",
      "\n",
      "The following object is masked from ‘package:base’:\n",
      "\n",
      "    isFALSE\n",
      "\n",
      "Loading required package: rngtools\n",
      "Loading required package: cluster\n",
      "NMF - BioConductor layer [OK] | Shared memory capabilities [NO: bigmemory] | Cores 3/4\n",
      "  To enable shared memory capabilities, try: install.extras('\n",
      "NMF\n",
      "')\n",
      "Loading required package: tools\n"
     ]
    }
   ],
   "source": [
    "library(\"InterSIM\")\n",
    "\n",
    "## INPUTS:\n",
    "#folder = location  where the simulated data should be saved\n",
    "#num.clusters = number of clusters to be imposed on the data\n",
    "#size = heterogeneous for heterogeneous clusters, equal for equally-sized clusters\n",
    "\n",
    "## OUPUTS: matrices of simulated data are saved to file in folder\n",
    "\n",
    "simulated_data_generation <- function(out.folder,num.clusters,size=\"heterogeneous\"){\n",
    "    \n",
    "    num.clusters<-as.numeric(num.clusters)\n",
    "    \n",
    "    ###the proportions of samples per clusters here defined are those used for the paper\n",
    "    if(size==\"heterogeneous\"){\n",
    "       if(num.clusters==5){\n",
    "           prop <- c(0.35,0.13,0.19,0.08,0.25)\n",
    "       }else if(num.clusters==10){\n",
    "           prop <- c(0.20,0.10,0.07,0.10,0.15,0.13,0.10,0.08,0.05,0.02)\n",
    "       }else{\n",
    "           prop <- c(0.10,0.08,0.04,0.03,0.12,0.03,0.10,0.03,0.05,0.02,0.1,0.2,0.03,0.02,0.05)\n",
    "       }\n",
    "    }else if(size==\"equal\"){\n",
    "       if(num.clusters==5){\n",
    "           prop <- c(0.25,0.2,0.2,0.2,0.15)\n",
    "       }else if(num.clusters==10){\n",
    "           prop <- c(0.15,0.1,0.1,0.10,0.1,0.1,0.05,0.1,0.1,0.1)\n",
    "       }else{\n",
    "           prop <- c(0.07,0.07,0.07,0.06,0.07,0.07,0.07,0.06,0.07,0.06,0.07,0.06,0.07,0.06,0.07)\n",
    "       } \n",
    "    }else{\n",
    "        print(\"ERROR: size can only assume value heterogeneous or equal\")\n",
    "    }\n",
    "    \n",
    "    effect <- 2.5\n",
    "\n",
    "    sim.D <- InterSIM(n.sample=100,cluster.sample.prop=prop,delta.methyl=effect,\n",
    "    delta.expr=effect,delta.protein=effect,p.DMP=0.25,p.DEG=NULL,p.DEP=NULL,\n",
    "    do.plot=FALSE, sample.cluster=TRUE, feature.cluster=TRUE)\n",
    "\n",
    "    dat1 <- t(sim.D$dat.methyl)\n",
    "    dat2 <- t(sim.D$dat.expr)\n",
    "    dat3 <- t(sim.D$dat.protein)\n",
    "\n",
    "    true.cluster.assignment <- sim.D$clustering.assignment\n",
    "    \n",
    "    file<-paste(out.folder,\"/omics1.txt\",sep=\"\")\n",
    "    write.table(dat1,file,sep=\"\\t\",row.names=T,col.names=T)\n",
    "    system(paste(\"sed -i '1s/^/probe\\t/'\", file, sep=\" \"))\n",
    "    file<-paste(out.folder,\"/omics2.txt\",sep=\"\")\n",
    "    write.table(dat2,paste(out.folder,\"/omics2.txt\",sep=\"\"),sep=\"\\t\",row.names=T,col.names=T)\n",
    "    system(paste(\"sed -i '1s/^/probe\\t/'\", file, sep=\" \"))\n",
    "    file<-paste(out.folder,\"/omics3.txt\",sep=\"\")\n",
    "    write.table(dat3,paste(out.folder,\"/omics3.txt\",sep=\"\"),sep=\"\\t\",row.names=T,col.names=T)\n",
    "    system(paste(\"sed -i '1s/^/probe\\t/'\", file, sep=\" \"))\n",
    "    write.table(true.cluster.assignment,paste(out.folder,\"/clusters.txt\",sep=\"\"),sep=\"\\t\",row.names=T,col.names=T)\n",
    "    \n",
    "    return(\"data saved in folder\")\n",
    "}"
   ]
  },
  {
   "cell_type": "markdown",
   "metadata": {},
   "source": [
    "Here the performances of the 9 multi-omics factorization methods are compared on simulated data. \n",
    "\n",
    "## Comparison based on clustering assignment\n",
    "\n",
    "The function comparing their performances in terms of clustering assignment is here defined. The function computes the Jaccard Index of intersection between the clusters predicted from factorization versus ground truth imposed in simulations. The cluster assignment is computed from the factors by kmeans clustering."
   ]
  },
  {
   "cell_type": "code",
   "execution_count": 2,
   "metadata": {},
   "outputs": [],
   "source": [
    "## INPUTS: \n",
    "#factorizations= list of factorization results\n",
    "#methods= list of ran factorization methods\n",
    "#in.folder= path to input folder\n",
    "#out.folder= path to output folder\n",
    "#icluster.clusters= clustering result of iCluster\n",
    "#intNMF.clusters= clustering result of intNMF\n",
    "#number_cl= number of clusters\n",
    "\n",
    "## OUPUTS: matrix of Jaccard Indexes is saved to table in out.folder\n",
    "\n",
    "clusters_comparison <- function(factorizations,methods,in.folder,out.folder,icluster.clusters,intNMF.clusters,number_cl){\n",
    "\n",
    "    ind<-0\n",
    "    JI_final<- matrix(data=NA,nrow=number_cl,ncol=length(factorizations))\n",
    "\n",
    "    ##charging clusters imposed on simulated data \n",
    "    cl<-as.matrix(read.table(paste(in.folder,\"clusters.txt\",sep=\"\"),sep=\"\\t\",row.names=1,header=T))\n",
    "    cl2<-as.matrix(as.numeric(cl[,2]))\n",
    "    rownames(cl2)<-cl[,1]\n",
    "\n",
    "    ## Assigning samples to cluster based on factors\n",
    "    for(i in 1:length(factorizations)){\n",
    "        if(methods[i]==\"iCluster\" || methods[i]==\"intNMF\"){\n",
    "            if(methods[i]==\"iCluster\"){\n",
    "                clust_iCluster<-as.matrix(icluster.clusters)\n",
    "            }else{\n",
    "                clust_iCluster<-as.matrix(intNMF.clusters)\n",
    "            }\n",
    "            ######creation sets of samples\n",
    "            JI_mat<-numeric(0)\n",
    "            for (p in 1:number_cl){\n",
    "                x1<-rownames(clust_iCluster)[which(clust_iCluster[,1]==p)]\n",
    "                row<-numeric(0)\n",
    "                for(j in 1:number_cl){\n",
    "                    x2<-rownames(cl2)[which(cl2[,1]==j)]\n",
    "                    I <- length(intersect(x1,x2))\n",
    "                    S <- I/(length(x1)+length(x2)-I)\n",
    "                    row<-cbind(row,S)\n",
    "                }\n",
    "                JI_mat<-rbind(JI_mat,row)\n",
    "            }\n",
    "            JI_final[1:number_cl,i]<-apply(JI_mat,1,max)\n",
    "            \n",
    "        }else{\n",
    "            factors<-factorizations[[i]][[1]]\n",
    "            ###clustering by Kmeans\n",
    "            JI_good<-numeric(0)\n",
    "            for (run in 1:1000){\n",
    "                kmeans.out <- kmeans(factors, centers=number_cl)\n",
    "                kmeans.out\n",
    "                clust_iCluster<-as.matrix(kmeans.out$cluster)\n",
    "                ######creation sets of samples\n",
    "                JI_mat<-numeric(0)\n",
    "                for (p in 1:number_cl){\n",
    "                    x1<-rownames(clust_iCluster)[which(clust_iCluster[,1]==p)]\n",
    "                    row<-numeric(0)\n",
    "                    for(j in 1:number_cl){\n",
    "                        x2<-rownames(cl2)[which(cl2[,1]==j)]\n",
    "                        I <- length(intersect(x1,x2))\n",
    "                        S <- I/(length(x1)+length(x2)-I)\n",
    "                        row<-cbind(row,S)\n",
    "                     }\n",
    "                     JI_mat<-rbind(JI_mat,row)\n",
    "                 }\n",
    "                 JI_good<-rbind(JI_good,apply(JI_mat,1,max))\n",
    "            }\n",
    "              JI_final[1:number_cl,i]<-apply(JI_good,2,mean)\n",
    "        }\n",
    "    }\n",
    "    colnames(JI_final)<-methods\n",
    "    write.table(JI_final,paste(out.folder,\"/JI.txt\",sep=\"\"),sep=\"\\t\",row.names=F,col.names=T)\n",
    "}"
   ]
  },
  {
   "cell_type": "markdown",
   "metadata": {},
   "source": [
    "## Running the comparison"
   ]
  },
  {
   "cell_type": "code",
   "execution_count": 3,
   "metadata": {},
   "outputs": [
    {
     "name": "stderr",
     "output_type": "stream",
     "text": [
      "Loading required package: mclust\n",
      "Package 'mclust' version 5.4.3\n",
      "Type 'citation(\"mclust\")' for citing this R package in publications.\n",
      "Loading required package: ade4\n",
      "\n",
      "Attaching package: ‘ade4’\n",
      "\n",
      "The following object is masked from ‘package:BiocGenerics’:\n",
      "\n",
      "    score\n",
      "\n",
      "\n",
      "Attaching package: ‘GPArotation’\n",
      "\n",
      "The following object is masked from ‘package:NMF’:\n",
      "\n",
      "    entropy\n",
      "\n",
      "\n",
      "Attaching package: ‘MOFAtools’\n",
      "\n",
      "The following objects are masked from ‘package:NMF’:\n",
      "\n",
      "    featureNames, featureNames<-, predict, sampleNames, sampleNames<-\n",
      "\n",
      "The following objects are masked from ‘package:Biobase’:\n",
      "\n",
      "    featureNames, featureNames<-, sampleNames, sampleNames<-\n",
      "\n",
      "The following object is masked from ‘package:stats’:\n",
      "\n",
      "    predict\n",
      "\n",
      "Loading required package: JADE\n",
      "Loading required package: lattice\n",
      "Loading required package: caTools\n",
      "Loading required package: gdata\n",
      "gdata: read.xls support for 'XLS' (Excel 97-2004) files ENABLED.\n",
      "\n",
      "gdata: read.xls support for 'XLSX' (Excel 2007+) files ENABLED.\n",
      "\n",
      "Attaching package: ‘gdata’\n",
      "\n",
      "The following object is masked from ‘package:Biobase’:\n",
      "\n",
      "    combine\n",
      "\n",
      "The following object is masked from ‘package:BiocGenerics’:\n",
      "\n",
      "    combine\n",
      "\n",
      "The following object is masked from ‘package:stats’:\n",
      "\n",
      "    nobs\n",
      "\n",
      "The following object is masked from ‘package:utils’:\n",
      "\n",
      "    object.size\n",
      "\n",
      "The following object is masked from ‘package:base’:\n",
      "\n",
      "    startsWith\n",
      "\n",
      "Loading required package: gtools\n",
      "\n",
      "Attaching package: ‘gtools’\n",
      "\n",
      "The following object is masked from ‘package:InterSIM’:\n",
      "\n",
      "    logit\n",
      "\n",
      "Loading required package: gplots\n",
      "\n",
      "Attaching package: ‘gplots’\n",
      "\n",
      "The following object is masked from ‘package:stats’:\n",
      "\n",
      "    lowess\n",
      "\n",
      "Warning message in createMOFAobject(omics):\n",
      "“View names are not specified in the data, renaming them to: view_1, view_2, view_3\n",
      "”Creating MOFA object from list of matrices,\n",
      " please make sure that samples are columns and features are rows...\n",
      "\n",
      "Checking data options...\n",
      "Checking training options...\n",
      "Checking model options...\n"
     ]
    },
    {
     "name": "stdout",
     "output_type": "stream",
     "text": [
      "[1] \"No output file provided, using a temporary file...\"\n",
      "Generating warm start... \n",
      "K=6:12\n"
     ]
    },
    {
     "name": "stderr",
     "output_type": "stream",
     "text": [
      "Warning message in createMOFAobject(omics):\n",
      "“View names are not specified in the data, renaming them to: view_1, view_2, view_3\n",
      "”Creating MOFA object from list of matrices,\n",
      " please make sure that samples are columns and features are rows...\n",
      "\n",
      "Checking data options...\n",
      "Checking training options...\n",
      "Checking model options...\n"
     ]
    },
    {
     "name": "stdout",
     "output_type": "stream",
     "text": [
      "[1] \"No output file provided, using a temporary file...\"\n",
      "Generating warm start... \n",
      "K=6:12\n"
     ]
    },
    {
     "name": "stderr",
     "output_type": "stream",
     "text": [
      "Warning message in createMOFAobject(omics):\n",
      "“View names are not specified in the data, renaming them to: view_1, view_2, view_3\n",
      "”Creating MOFA object from list of matrices,\n",
      " please make sure that samples are columns and features are rows...\n",
      "\n",
      "Checking data options...\n",
      "Checking training options...\n",
      "Checking model options...\n"
     ]
    },
    {
     "name": "stdout",
     "output_type": "stream",
     "text": [
      "[1] \"No output file provided, using a temporary file...\"\n",
      "Generating warm start... \n",
      "K=11:12\n"
     ]
    },
    {
     "name": "stderr",
     "output_type": "stream",
     "text": [
      "Warning message in createMOFAobject(omics):\n",
      "“View names are not specified in the data, renaming them to: view_1, view_2, view_3\n",
      "”Creating MOFA object from list of matrices,\n",
      " please make sure that samples are columns and features are rows...\n",
      "\n",
      "Checking data options...\n",
      "Checking training options...\n",
      "Checking model options...\n"
     ]
    },
    {
     "name": "stdout",
     "output_type": "stream",
     "text": [
      "[1] \"No output file provided, using a temporary file...\"\n",
      "Generating warm start... \n",
      "K=11:12\n"
     ]
    },
    {
     "name": "stderr",
     "output_type": "stream",
     "text": [
      "Warning message in createMOFAobject(omics):\n",
      "“View names are not specified in the data, renaming them to: view_1, view_2, view_3\n",
      "”Creating MOFA object from list of matrices,\n",
      " please make sure that samples are columns and features are rows...\n",
      "\n",
      "Checking data options...\n",
      "Checking training options...\n",
      "Checking model options...\n"
     ]
    },
    {
     "name": "stdout",
     "output_type": "stream",
     "text": [
      "[1] \"No output file provided, using a temporary file...\"\n",
      "Generating warm start... \n",
      "K=16:12\n"
     ]
    },
    {
     "name": "stderr",
     "output_type": "stream",
     "text": [
      "Warning message in createMOFAobject(omics):\n",
      "“View names are not specified in the data, renaming them to: view_1, view_2, view_3\n",
      "”Creating MOFA object from list of matrices,\n",
      " please make sure that samples are columns and features are rows...\n",
      "\n",
      "Checking data options...\n",
      "Checking training options...\n",
      "Checking model options...\n"
     ]
    },
    {
     "name": "stdout",
     "output_type": "stream",
     "text": [
      "[1] \"No output file provided, using a temporary file...\"\n",
      "Generating warm start... \n",
      "K=16:12\n"
     ]
    }
   ],
   "source": [
    "#charging the function running the factorization\n",
    "source(\"runfactorization.R\")\n",
    "system(\"mkdir ../data/simulations\")\n",
    "system(\"mkdir ../results\")\n",
    "for(num.clusters in c(5,10,15)){\n",
    "    for(size in c(\"heterogeneous\",\"equal\")){\n",
    "        simulated_data_generation(\"../data/simulations\",num.clusters,size)\n",
    "        out<-runfactorization(\"../data/simulations\",c(\"omics1.txt\",\"omics2.txt\",\"omics3.txt\"),num.clusters,sep=\"\\t\",filtering=\"none\")\n",
    "        folder<-paste(\"../results/\",num.clusters,\"_\",size,sep=\"\")\n",
    "        system(paste(\"mkdir\",folder,sep=\" \"))\n",
    "        clusters_comparison(out$factorizations,out$method,\"../data/simulations/\",folder,out$icluster.clusters,out$intNMF.clusters,num.clusters)\n",
    "    \n",
    "    }\n",
    "}"
   ]
  },
  {
   "cell_type": "markdown",
   "metadata": {},
   "source": [
    "## Genereting plots with results"
   ]
  },
  {
   "cell_type": "code",
   "execution_count": 19,
   "metadata": {},
   "outputs": [],
   "source": [
    "for (i in c(5,10,15)){\n",
    "    JI.eq<-as.matrix(read.table(paste(\"../results/\",i,\"_equal/\",\"JI.txt\",sep=\"\"),sep=\"\\t\",header=T))\n",
    "    JI.het<-as.matrix(read.table(paste(\"../results/\",i,\"_heterogeneous/\",\"JI.txt\",sep=\"\"),sep=\"\\t\",header=T))\n",
    "    colnames(JI.eq) <- paste(colnames(JI.eq), \"_EQ\", sep=\"\")\n",
    "    \n",
    "    JI.final<-numeric(0)\n",
    "    col<-numeric(0)\n",
    "    for(j in 1:dim(JI.eq)[2]){\n",
    "        JI.final<-cbind(JI.final,JI.het[,j],JI.eq[,j])\n",
    "        col<-rbind(col,colnames(JI.het)[j],colnames(JI.eq)[j])\n",
    "    }\n",
    "    colnames(JI.final)<-col\n",
    "    \n",
    "    png(file=paste(\"../results/boxplot_\",i,sep=\"\"),width = 15, height = 15, units = 'in', res = 400)\n",
    "    par(mar=c(25,4,2,2)+.1)\n",
    "    boxplot(JI.final,xaxt=\"none\",cex.axis=3.5,col=c('gray','gray','red','red','blue','blue','blueviolet','blueviolet','deeppink','deeppink','chocolate1','chocolate1','darkgoldenrod','darkgoldenrod','green','green','darkturquoise','darkturquoise'),ann=FALSE,outline=FALSE)\n",
    "    matplot(1:dim(JI.final)[2], t(JI.final),col=\"black\",pch=16,xaxt=\"none\",cex=0.8,add=TRUE)\n",
    "    axis(1, at=1:dim(JI.final)[2], labels=colnames(JI.final),las=2,srt=45, cex=0.8,cex.lab=3.5, cex.axis=3.5, cex.main=1.5, cex.sub=1.5) \n",
    "    title(main=paste(i,\"clusters\",sep=\" \"),cex.lab=0.75, line = -2.5, adj=0,cex.main=3.5)\n",
    "    dev.off()\n",
    "}"
   ]
  },
  {
   "cell_type": "code",
   "execution_count": 15,
   "metadata": {},
   "outputs": [],
   "source": [
    "\n",
    "#### reorder algorithms"
   ]
  }
 ],
 "metadata": {
  "kernelspec": {
   "display_name": "R",
   "language": "R",
   "name": "ir"
  },
  "language_info": {
   "codemirror_mode": "r",
   "file_extension": ".r",
   "mimetype": "text/x-r-source",
   "name": "R",
   "pygments_lexer": "r",
   "version": "3.5.1"
  }
 },
 "nbformat": 4,
 "nbformat_minor": 2
}
