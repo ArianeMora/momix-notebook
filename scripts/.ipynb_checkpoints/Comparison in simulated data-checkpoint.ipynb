{
 "cells": [
  {
   "cell_type": "markdown",
   "metadata": {},
   "source": [
    "# Comparison performances in simulated data"
   ]
  },
  {
   "cell_type": "markdown",
   "metadata": {},
   "source": [
    "Here the performances of the 9 multi-omics factorization methods are compared based on their performances on simulated data.\n",
    "\n",
    "## Construction of the simulated data\n",
    "\n",
    "The function to produce the simulated data is here defined. The function generates multi-omics simulated data (expression, methylation and protein quantification) composed of 100 samples, using the CRAN InserSIM package. Two different scenarios are considered, equally spaced clusters and heterogeneous ones. Moreover,different numbers of clusters are imposed on the data: 5,10,15. "
   ]
  },
  {
   "cell_type": "code",
   "execution_count": 1,
   "metadata": {},
   "outputs": [
    {
     "name": "stderr",
     "output_type": "stream",
     "text": [
      "Loading required package: MASS\n",
      "Loading required package: NMF\n",
      "Loading required package: pkgmaker\n",
      "Loading required package: registry\n",
      "\n",
      "Attaching package: ‘pkgmaker’\n",
      "\n",
      "The following object is masked from ‘package:base’:\n",
      "\n",
      "    isFALSE\n",
      "\n",
      "Loading required package: rngtools\n",
      "Loading required package: cluster\n",
      "NMF - BioConductor layer [OK] | Shared memory capabilities [NO: bigmemory] | Cores 3/4\n",
      "  To enable shared memory capabilities, try: install.extras('\n",
      "NMF\n",
      "')\n",
      "Loading required package: tools\n"
     ]
    }
   ],
   "source": [
    "library(\"InterSIM\")\n",
    "\n",
    "## INPUTS:\n",
    "#folder = location  where the simulated data should be saved\n",
    "#num.clusters = number of clusters to be imposed on the data\n",
    "#size = heterogeneous for heterogeneous clusters, equal for equally-sized clusters\n",
    "\n",
    "## OUPUTS: matrices of simulated data are saved to file in folder\n",
    "\n",
    "simulated_data_generation <- function(out.folder,num.clusters,size=\"heterogeneous\"){\n",
    "    \n",
    "    num.clusters<-as.numeric(num.clusters)\n",
    "    \n",
    "    ###the proportions of samples per clusters here defined are those used for the paper\n",
    "    if(size==\"heterogeneous\"){\n",
    "       if(num.clusters==5){\n",
    "           prop <- c(0.35,0.13,0.19,0.08,0.25)\n",
    "       }else if(num.clusters==10){\n",
    "           prop <- c(0.20,0.10,0.07,0.10,0.15,0.13,0.10,0.08,0.05,0.02)\n",
    "       }else{\n",
    "           prop <- c(0.10,0.08,0.04,0.03,0.12,0.03,0.10,0.03,0.05,0.02,0.1,0.2,0.03,0.02,0.05)\n",
    "       }\n",
    "    }else if(size==\"equal\"){\n",
    "       if(num.clusters==5){\n",
    "           prop <- c(0.2,0.2,0.2,0.2,0.2)\n",
    "       }else if(num.clusters==10){\n",
    "           prop <- c(0.1,0.1,0.1,0.10,0.1,0.1,0.1,0.1,0.1,0.1)\n",
    "       }else{\n",
    "           prop <- c(0.07,0.07,0.07,0.06,0.07,0.07,0.07,0.06,0.07,0.06,0.07,0.06,0.07,0.06,0.07)\n",
    "       } \n",
    "    }else{\n",
    "        disp(\"ERROR: size can only assume value heterogeneous or equal\")\n",
    "    }\n",
    "    \n",
    "    effect <- 2.5\n",
    "\n",
    "    sim.D <- InterSIM(n.sample=100,cluster.sample.prop=prop,delta.methyl=effect,\n",
    "    delta.expr=effect,delta.protein=effect,p.DMP=0.25,p.DEG=NULL,p.DEP=NULL,\n",
    "    do.plot=FALSE, sample.cluster=TRUE, feature.cluster=TRUE)\n",
    "\n",
    "    dat1 <- t(sim.D$dat.methyl)\n",
    "    dat2 <- t(sim.D$dat.expr)\n",
    "    dat3 <- t(sim.D$dat.protein)\n",
    "\n",
    "    true.cluster.assignment <- sim.D$clustering.assignment\n",
    "    \n",
    "\n",
    "    write.table(dat1,paste(out.folder,\"/omics1.txt\",sep=\"\"),sep=\"\\t\",row.names=T,col.names=T)\n",
    "    write.table(dat2,paste(out.folder,\"/omics2.txt\",sep=\"\"),sep=\"\\t\",row.names=T,col.names=T)\n",
    "    write.table(dat3,paste(out.folder,\"/omics3.txt\",sep=\"\"),sep=\"\\t\",row.names=T,col.names=T)\n",
    "    write.table(true.cluster.assignment,paste(out.folder,\"/clusters.txt\",sep=\"\"),sep=\"\\t\",row.names=T,col.names=T)\n",
    "    \n",
    "    disp(\"data saved in folder\")\n",
    "}"
   ]
  },
  {
   "cell_type": "markdown",
   "metadata": {},
   "source": [
    "Here the performances of the 9 multi-omics factorization methods are compared on simulated data. \n",
    "\n",
    "## Comparison based on clustering assignment\n",
    "\n",
    "The function comparing their performances in terms of clustering assignment is here defined. The function computes the Jaccard Index of intersection between the clusters predicted from factorization versus ground truth imposed in simulations. The cluster assignment is computed from the factors by kmeans clustering."
   ]
  },
  {
   "cell_type": "code",
   "execution_count": 2,
   "metadata": {},
   "outputs": [],
   "source": [
    "## INPUTS: \n",
    "#factorizations= list of factorization results\n",
    "#methods= list of ran factorization methods\n",
    "#in.folder= path to input folder\n",
    "#out.folder= path to output folder\n",
    "#icluster.clusters= clustering result of iCluster\n",
    "#intNMF.clusters= clustering result of intNMF\n",
    "#number_cl= number of clusters\n",
    "\n",
    "## OUPUTS: matrix of Jaccard Indexes is saved to table in out.folder\n",
    "\n",
    "clusters_comparison <- function(factorizations,methods,in.folder,out.folder,icluster.clusters,intNMF.clusters,number_cl){\n",
    "\n",
    "    ind<-0\n",
    "    JI_final<- matrix(data=NA,nrow=15,ncol=27)\n",
    "\n",
    "    ##charging clusters imposed on simulated data \n",
    "    cl<-as.matrix(read.table(paste(in.folder,\"clusters.txt\",sep=\"\"),sep=\"\\t\",row.names=1,header=T))\n",
    "    cl2<-as.matrix(as.numeric(cl[,2]))\n",
    "    rownames(cl2)<-cl[,1]\n",
    "\n",
    "    ## Assigning samples to cluster based on factors\n",
    "    for(i in 1:length(factorizations)){\n",
    "        if(methods[i]==\"iCluster\" || methods[i]==\"intNMF\"){\n",
    "            if(methods[i]==\"iCluster\"){\n",
    "                clust_iCluster<-as.matrix(icluster.clusters)\n",
    "            }else{\n",
    "                clust_iCluster<-as.matrix(intNMF.clusters)\n",
    "            }\n",
    "            ######creation sets of samples\n",
    "            JI_mat<-numeric(0)\n",
    "            for (i in 1:number_cl){\n",
    "                x1<-rownames(clust_iCluster)[which(clust_iCluster[,1]==i)]\n",
    "                row<-numeric(0)\n",
    "                for(j in 1:number_cl){\n",
    "                    x2<-rownames(cl2)[which(cl2[,1]==j)]\n",
    "                    I <- length(intersect(x1,x2))\n",
    "                    S <- I/(length(x1)+length(x2)-I)\n",
    "                    row<-cbind(row,S)\n",
    "                }\n",
    "                JI_mat<-rbind(JI_mat,row)\n",
    "            }\n",
    "            JI_final[1:number_cl,i]<-apply(JI_mat,1,max)\n",
    "            \n",
    "        }else{\n",
    "            factors<-factorizations[[i]][[1]]\n",
    "            ###clustering by Kmeans\n",
    "            JI_good<-numeric(0)\n",
    "            for (run in 1:1000){\n",
    "                kmeans.out <- kmeans(factors, centers=number_cl)\n",
    "                clust_iCluster<-as.matrix(kmeans.out$cluster)\n",
    "                ######creation sets of samples\n",
    "                JI_mat<-numeric(0)\n",
    "                for (i in 1:number_cl){\n",
    "                    x1<-rownames(clust_iCluster)[which(clust_iCluster[,1]==i)]\n",
    "                    row<-numeric(0)\n",
    "                    for(j in 1:number_cl){\n",
    "                        x2<-rownames(cl2)[which(cl2[,1]==j)]\n",
    "                        I <- length(intersect(x1,x2))\n",
    "                        S <- I/(length(x1)+length(x2)-I)\n",
    "                        row<-cbind(row,S)\n",
    "                     }\n",
    "                     JI_mat<-rbind(JI_mat,row)\n",
    "                 }\n",
    "                 JI_good<-rbind(JI_good,apply(JI_mat,1,max))\n",
    "            }\n",
    "              JI_final[1:number_cl,i]<-apply(JI_good,2,mean)\n",
    "        }\n",
    "    }\n",
    "    \n",
    "    colnames(JI_final)<-methods\n",
    "    write.table(JI_final,paste(out.folder,\"/JI.txt\",sep=\"\"),sep=\"\\t\",row.names=T,col.names=T)\n",
    "}"
   ]
  },
  {
   "cell_type": "markdown",
   "metadata": {},
   "source": [
    "## Comparison based on metagenes correlation\n"
   ]
  },
  {
   "cell_type": "code",
   "execution_count": null,
   "metadata": {},
   "outputs": [],
   "source": []
  },
  {
   "cell_type": "markdown",
   "metadata": {},
   "source": [
    "## Running the comparison"
   ]
  },
  {
   "cell_type": "code",
   "execution_count": null,
   "metadata": {},
   "outputs": [],
   "source": [
    "#charging the function running the factorization\n",
    "source(\"runfactorization.R\")\n",
    "\n",
    "for(num.clusters in c(5,10,15)){\n",
    "    for(size in c(\"heterogeneous\",\"equal\")){\n",
    "        simulated_data_generation(\"../data/simulations\",num.clusters,size)\n",
    "        out<-runfactorization(\"../data/simulations\",c(\"omics1.txt\",\"omics2.txt\",\"omics3.txt\"),num.clusters,sep=\"\\t\",filtering=\"none\")\n",
    "        clusters_comparison(out$factorizations,out$methods,\"../data/simulations\",\"../results\",out$icluster.clusters,out$intNMF.clusters,number_cl)\n",
    "    \n",
    "    }\n",
    "}"
   ]
  },
  {
   "cell_type": "code",
   "execution_count": null,
   "metadata": {},
   "outputs": [],
   "source": []
  },
  {
   "cell_type": "code",
   "execution_count": null,
   "metadata": {},
   "outputs": [],
   "source": []
  }
 ],
 "metadata": {
  "kernelspec": {
   "display_name": "R",
   "language": "R",
   "name": "ir"
  },
  "language_info": {
   "codemirror_mode": "r",
   "file_extension": ".r",
   "mimetype": "text/x-r-source",
   "name": "R",
   "pygments_lexer": "r",
   "version": "3.5.1"
  }
 },
 "nbformat": 4,
 "nbformat_minor": 2
}
