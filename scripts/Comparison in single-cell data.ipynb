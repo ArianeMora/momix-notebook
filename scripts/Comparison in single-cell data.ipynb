{
 "cells": [
  {
   "cell_type": "markdown",
   "metadata": {},
   "source": [
    "# Comparison in single-cell data\n",
    "\n"
   ]
  },
  {
   "cell_type": "markdown",
   "metadata": {},
   "source": [
    "## Data preprocessing"
   ]
  },
  {
   "cell_type": "code",
   "execution_count": 11,
   "metadata": {},
   "outputs": [],
   "source": [
    "#### charging data and processing\n",
    "exp<-readRDS(\"../data/single-cell/CellLines_RNAseqCounts.RDS\", refhook = NULL) #ENS for genes and counts\n",
    "exp<-log2(exp+1)\n",
    "atac_counts<-readRDS(\"../data/single-cell/CellLines_ATACseqCounts.RDS\", refhook = NULL) # peaks counts\n",
    "metadata<-readRDS(\"../data/single-cell/CellLines_metadata.RDS\", refhook = NULL)\n",
    "colnames(atac_counts)<-metadata[,1]\n",
    "write.table(exp,\"../data/single-cell/CellLines_RNAseqCounts.txt\",sep=\"\\t\",col.names=T,row.names=T)\n",
    "system(\"sed -i '1s/^/probe\\t/' ../data/single-cell/CellLines_RNAseqCounts.txt\")\n",
    "write.table(atac_counts,\"../data/single-cell/CellLines_ATACseqCounts.txt\",sep=\"\\t\",col.names=T,row.names=T)\n",
    "system(\"sed -i '1s/^/probe\\t/' ../data/single-cell/CellLines_ATACseqCounts.txt\")"
   ]
  },
  {
   "cell_type": "markdown",
   "metadata": {},
   "source": [
    "## Running comparison"
   ]
  },
  {
   "cell_type": "code",
   "execution_count": 12,
   "metadata": {},
   "outputs": [
    {
     "name": "stderr",
     "output_type": "stream",
     "text": [
      "Saving 6.67 x 6.67 in image\n",
      "Saving 6.67 x 6.67 in image\n",
      "Saving 6.67 x 6.67 in image\n",
      "Saving 6.67 x 6.67 in image\n",
      "Saving 6.67 x 6.67 in image\n"
     ]
    }
   ],
   "source": [
    "library(\"ggplot2\")\n",
    "library(\"clusterCrit\")\n",
    "source(\"runfactorization.R\")\n",
    "\n",
    "##plot parameters\n",
    "dot_size=1.5\n",
    "dot_alpha=1.0\n",
    "xlabel <- \"Factor 1\"\n",
    "ylabel <- \"Factor 2\"\n",
    "\n",
    "metadata<-readRDS(\"../data/single-cell/CellLines_metadata.RDS\", refhook = NULL)\n",
    "sample_annot<-as.matrix(cbind(metadata[,1],metadata$celltype))\n",
    "\n",
    "\n",
    "###factorization\n",
    "out<-runfactorization(\"../data/single-cell/\",c(\"CellLines_RNAseqCounts.txt\",\"CellLines_ATACseqCounts.txt\"),2,sep=\"\\t\",filtering=\"stringent\")\n",
    "c_index<-numeric(0)\n",
    "for(i in 1:length(out$factorizations)){\n",
    "    factors<-out$factorizations[[i]][[1]]\n",
    "\n",
    "    ##delete NAs\n",
    "    factors<-factors[which(!is.na(factors[,1])),]\n",
    "    sample_annot<-sample_annot[which(!is.na(factors[,1])),]\n",
    "    factors<-factors[which(!is.na(factors[,2])),]\n",
    "    sample_annot<-sample_annot[which(!is.na(factors[,2])),]\n",
    "\n",
    "    ## Plot\n",
    "    df = data.frame(x =  factors[,1], y = factors[,2], color_by = sample_annot[,2])\n",
    "\n",
    "    p <- ggplot(df, aes_string(x = \"x\", y = \"y\")) + \n",
    "       geom_point(aes_string(color = \"color_by\"), size=dot_size, alpha=dot_alpha) + \n",
    "       xlab(xlabel) + ylab(ylabel) +\n",
    "       # scale_shape_manual(values=c(19,1,2:18)[seq_along(unique(shape_by))]) +\n",
    "       theme(plot.margin = margin(20, 20, 10, 10), \n",
    "             axis.text = element_text(size = rel(1), color = \"black\"), \n",
    "             axis.title = element_text(size = 16), \n",
    "             axis.title.y = element_text(size = rel(1.1), margin = margin(0, 10, 0, 0)), \n",
    "             axis.title.x = element_text(size = rel(1.1), margin = margin(10, 0, 0, 0)), \n",
    "             axis.line = element_line(color = \"black\", size = 0.5), \n",
    "             axis.ticks = element_line(color = \"black\", size = 0.5),\n",
    "             panel.border = element_blank(), \n",
    "             panel.grid.major = element_blank(),\n",
    "             panel.grid.minor = element_blank(), \n",
    "             panel.background = element_blank(),\n",
    "             legend.key = element_rect(fill = \"white\"),\n",
    "             legend.text = element_text(size = 16),\n",
    "             legend.title = element_text(size =16)\n",
    "       )\n",
    "\n",
    "     p + scale_color_manual(values=c(\"#0072B2\", \"#D55E00\", \"#CC79A7\"))\n",
    "     ggsave(paste(\"../results/plot_\",out$method[i],\".jpg\",sep=\"\"))\n",
    "\n",
    "\n",
    "    ann<- sample_annot[,2]\n",
    "    ann<-gsub(\"HCT\",1,ann)\n",
    "    ann<-gsub(\"Hela\",2,ann)\n",
    "    ann<-gsub(\"K562\",3,ann)\n",
    "    ann<-as.numeric(ann)\n",
    "    c_index<-rbind(c_index,intCriteria(factors, as.integer(ann), crit=c(\"C_index\")))\n",
    "\n",
    "}\n",
    "\n",
    "report_cindex<-cbind(out$methods,c_index)\n",
    "report_cindex<-cbind(out$method,report_cindex)\n",
    "write.table(report_cindex,\"../results/singlecell_cindex.txt\",sep=\"\\t\",col.names=F,row.names=F)\n"
   ]
  }
 ],
 "metadata": {
  "kernelspec": {
   "display_name": "R",
   "language": "R",
   "name": "ir"
  },
  "language_info": {
   "codemirror_mode": "r",
   "file_extension": ".r",
   "mimetype": "text/x-r-source",
   "name": "R",
   "pygments_lexer": "r",
   "version": "3.5.1"
  }
 },
 "nbformat": 4,
 "nbformat_minor": 2
}
